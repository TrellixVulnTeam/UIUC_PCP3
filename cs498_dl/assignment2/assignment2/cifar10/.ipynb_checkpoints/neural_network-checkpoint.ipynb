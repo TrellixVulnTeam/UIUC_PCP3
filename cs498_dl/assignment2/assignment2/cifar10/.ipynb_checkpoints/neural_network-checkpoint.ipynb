{
 "cells": [
  {
   "cell_type": "markdown",
   "metadata": {},
   "source": [
    "# CS498DL Assignment 2"
   ]
  },
  {
   "cell_type": "code",
   "execution_count": 1,
   "metadata": {},
   "outputs": [
    {
     "ename": "ModuleNotFoundError",
     "evalue": "No module named 'kaggle_submission'",
     "output_type": "error",
     "traceback": [
      "\u001b[1;31m---------------------------------------------------------------------------\u001b[0m",
      "\u001b[1;31mModuleNotFoundError\u001b[0m                       Traceback (most recent call last)",
      "\u001b[1;32m<ipython-input-1-51cd7cc093d6>\u001b[0m in \u001b[0;36m<module>\u001b[1;34m\u001b[0m\n\u001b[0;32m      3\u001b[0m \u001b[1;32mimport\u001b[0m \u001b[0mmath\u001b[0m\u001b[1;33m\u001b[0m\u001b[1;33m\u001b[0m\u001b[0m\n\u001b[0;32m      4\u001b[0m \u001b[1;33m\u001b[0m\u001b[0m\n\u001b[1;32m----> 5\u001b[1;33m \u001b[1;32mfrom\u001b[0m \u001b[0mkaggle_submission\u001b[0m \u001b[1;32mimport\u001b[0m \u001b[0moutput_submission_csv\u001b[0m\u001b[1;33m\u001b[0m\u001b[1;33m\u001b[0m\u001b[0m\n\u001b[0m\u001b[0;32m      6\u001b[0m \u001b[1;32mfrom\u001b[0m \u001b[0mmodels\u001b[0m\u001b[1;33m.\u001b[0m\u001b[0mneural_net\u001b[0m \u001b[1;32mimport\u001b[0m \u001b[0mNeuralNetwork\u001b[0m\u001b[1;33m\u001b[0m\u001b[1;33m\u001b[0m\u001b[0m\n\u001b[0;32m      7\u001b[0m \u001b[1;32mfrom\u001b[0m \u001b[0mutils\u001b[0m\u001b[1;33m.\u001b[0m\u001b[0mdata_process\u001b[0m \u001b[1;32mimport\u001b[0m \u001b[0mget_CIFAR10_data\u001b[0m\u001b[1;33m\u001b[0m\u001b[1;33m\u001b[0m\u001b[0m\n",
      "\u001b[1;31mModuleNotFoundError\u001b[0m: No module named 'kaggle_submission'"
     ]
    }
   ],
   "source": [
    "import matplotlib.pyplot as plt\n",
    "import numpy as np\n",
    "import math\n",
    "\n",
    "from kaggle_submission import output_submission_csv\n",
    "from models.neural_net import NeuralNetwork\n",
    "from utils.data_process import get_CIFAR10_data\n",
    "\n",
    "%matplotlib inline\n",
    "plt.rcParams['figure.figsize'] = (10.0, 8.0)  # set default size of plots\n",
    "\n",
    "# For auto-reloading external modules\n",
    "# See http://stackoverflow.com/questions/1907993/autoreload-of-modules-in-ipython\n",
    "%load_ext autoreload\n",
    "%autoreload 2"
   ]
  },
  {
   "cell_type": "markdown",
   "metadata": {},
   "source": [
    "## Loading CIFAR-10\n",
    "Now that you have implemented a neural network that passes gradient checks and works on toy data, you will test your network on the CIFAR-10 dataset."
   ]
  },
  {
   "cell_type": "code",
   "execution_count": null,
   "metadata": {},
   "outputs": [],
   "source": [
    "# You can change these numbers for experimentation\n",
    "# For submission be sure they are set to the default values\n",
    "TRAIN_IMAGES = 49000\n",
    "VAL_IMAGES = 1000\n",
    "TEST_IMAGES = 10000\n",
    "\n",
    "data = get_CIFAR10_data(TRAIN_IMAGES, VAL_IMAGES, TEST_IMAGES)\n",
    "X_train, y_train = data['X_train'], data['y_train']\n",
    "X_val, y_val = data['X_val'], data['y_val']\n",
    "X_test, y_test = data['X_test'], data['y_test']"
   ]
  },
  {
   "cell_type": "markdown",
   "metadata": {},
   "source": [
    "## Train using 2 Layer SGD\n",
    "To train our network we will use SGD. In addition, we will adjust the learning rate with an exponential learning rate schedule as optimization proceeds; after each epoch, we will reduce the learning rate by multiplying it by a decay rate.\n",
    "\n",
    "You can try different numbers of layers and other hyperparameters on the CIFAR-10 dataset below."
   ]
  },
  {
   "cell_type": "code",
   "execution_count": null,
   "metadata": {},
   "outputs": [],
   "source": [
    "# Hyperparameters\n",
    "input_size = 32 * 32 * 3\n",
    "num_layers = 2\n",
    "hidden_size = 200\n",
    "hidden_sizes = [hidden_size] * (num_layers - 1)\n",
    "num_classes = 10\n",
    "epochs = 20\n",
    "batch_size = 200\n",
    "learning_rate = 1e-3\n",
    "learning_rate_decay = 0.95\n",
    "regularization = 5e-6\n",
    "\n",
    "# Initialize a new neural network model\n",
    "net = NeuralNetwork(input_size, hidden_sizes, num_classes, num_layers)\n",
    "\n",
    "# Variables to store performance for each epoch\n",
    "train_loss_2sgd = np.zeros(epochs)\n",
    "train_accuracy_2sgd = np.zeros(epochs)\n",
    "val_accuracy_2sgd = np.zeros(epochs)\n",
    "\n",
    "\n",
    "highest_accuracy = -math.inf\n",
    "best_network = 0\n",
    "\n",
    "# For each epoch...\n",
    "for epoch in range(epochs):\n",
    "    #print('epoch:', epoch)\n",
    "    \n",
    "    # Shuffle the dataset\n",
    "    # Training\n",
    "    # For each mini-batch...\n",
    "    batch_accuracy = []\n",
    "    f_accuracy = []\n",
    "    for batch in range(TRAIN_IMAGES // batch_size):\n",
    "        X_batch = X_train[batch: batch+batch_size]\n",
    "        y_batch = y_train[batch: batch+batch_size]\n",
    "        f_output = np.argmax(net.forward(X_batch), axis = 1)\n",
    "        loss = net.backward(X_batch, y_batch, learning_rate, regularization)\n",
    "        train_loss_2sgd[epoch] += loss\n",
    "        #print(\"check size: \", y_batch.size, output.size)\n",
    "        batch_accuracy.extend(y_batch.tolist())\n",
    "        f_accuracy.extend(f_output.tolist())\n",
    "        # Create a mini-batch of training data and labels\n",
    "        # Run the forward pass of the model to get a prediction and compute the accuracy\n",
    "        # Run the backward pass of the model to update the weights and compute the loss\n",
    "    #print(np.array(batch_accuracy).size, np.array(train_accuracy).size)\n",
    "    train_accuracy_2sgd[epoch] = np.sum(np.array(batch_accuracy)==np.array(f_accuracy))/len(batch_accuracy) * 100\n",
    "    train_loss_2sgd[epoch] /= (TRAIN_IMAGES // batch_size)\n",
    "\n",
    "    # Validation\n",
    "    # No need to run the backward pass here, just run the forward pass to compute accuracy\n",
    "#     batch_accuracy2 = []\n",
    "#     real_accuracy = []\n",
    "#     for batch in range(X_val.shape[0] // 1000):\n",
    "#         X_val_batch = X_val[batch: batch+1000]\n",
    "#         y_val_batch = y_val[batch: batch+1000]\n",
    "#         f_output2 = np.argmax(net.forward(X_val_batch), axis = 1)\n",
    "#         batch_accuracy2.extend(y_val_batch.tolist())\n",
    "#         real_accuracy.extend(f_output2.tolist())\n",
    "#     val_accuracy_2sgd[epoch] = np.sum(np.array(batch_accuracy2)==np.array(real_accuracy))/len(batch_accuracy2) * 100\n",
    "#     if val_accuracy_2sgd[epoch] > highest_accuracy:\n",
    "#         highest_accuracy = val_accuracy_2sgd[epoch]\n",
    "#         best_network = net\n",
    "#     learning_rate *= learning_rate\n",
    "    f_output2 = net.forward(X_val)\n",
    "    for i in range(len(y_val)):\n",
    "        if np.argmax(f_output2[i]) == y_val[i]:\n",
    "            val_accuracy_2sgd[epoch] += 1\n",
    "    val_accuracy_2sgd[epoch] /= X_val.shape[0]\n",
    "\n",
    "sgd_2_best = best_network\n",
    "#print(train_accuracy, val_accuracy)"
   ]
  },
  {
   "cell_type": "markdown",
   "metadata": {},
   "source": [
    "## Train using 3 Layer SGD\n",
    "To train our network we will use SGD. In addition, we will adjust the learning rate with an exponential learning rate schedule as optimization proceeds; after each epoch, we will reduce the learning rate by multiplying it by a decay rate.\n",
    "\n",
    "You can try different numbers of layers and other hyperparameters on the CIFAR-10 dataset below."
   ]
  },
  {
   "cell_type": "code",
   "execution_count": 4,
   "metadata": {},
   "outputs": [],
   "source": [
    "# Hyperparameters\n",
    "input_size = 32 * 32 * 3\n",
    "num_layers = 3\n",
    "hidden_size = 200\n",
    "hidden_sizes = [hidden_size] * (num_layers - 1)\n",
    "num_classes = 10\n",
    "epochs = 20\n",
    "batch_size = 200\n",
    "learning_rate = 1e-3\n",
    "learning_rate_decay = 0.95\n",
    "regularization = 5e-6\n",
    "\n",
    "# Initialize a new neural network model\n",
    "net = NeuralNetwork(input_size, hidden_sizes, num_classes, num_layers)\n",
    "\n",
    "# Variables to store performance for each epoch\n",
    "train_loss_3sgd = np.zeros(epochs)\n",
    "train_accuracy_3sgd = np.zeros(epochs)\n",
    "val_accuracy_3sgd = np.zeros(epochs)\n",
    "\n",
    "\n",
    "# For each epoch...\n",
    "for epoch in range(epochs):\n",
    "    #print('epoch:', epoch)\n",
    "    \n",
    "    # Shuffle the dataset\n",
    "    # Training\n",
    "    # For each mini-batch...\n",
    "    batch_accuracy = []\n",
    "    f_accuracy = []\n",
    "    for batch in range(TRAIN_IMAGES // batch_size):\n",
    "        X_batch = X_train[batch: batch+batch_size]\n",
    "        y_batch = y_train[batch: batch+batch_size]\n",
    "        f_output = np.argmax(net.forward(X_batch), axis = 1)\n",
    "        loss = net.backward(X_batch, y_batch, learning_rate, regularization)\n",
    "        train_loss_3sgd[epoch] += loss\n",
    "        #print(\"check size: \", y_batch.size, output.size)\n",
    "        batch_accuracy.extend(y_batch.tolist())\n",
    "        f_accuracy.extend(f_output.tolist())\n",
    "        # Create a mini-batch of training data and labels\n",
    "        # Run the forward pass of the model to get a prediction and compute the accuracy\n",
    "        # Run the backward pass of the model to update the weights and compute the loss\n",
    "    #print(np.array(batch_accuracy).size, np.array(train_accuracy).size)\n",
    "    train_accuracy_3sgd[epoch] = np.sum(np.array(batch_accuracy)==np.array(f_accuracy))/len(batch_accuracy) * 100\n",
    "    train_loss_3sgd[epoch] /= (TRAIN_IMAGES // batch_size)\n",
    "\n",
    "    # Validation\n",
    "    # No need to run the backward pass here, just run the forward pass to compute accuracy\n",
    "    batch_accuracy2 = []\n",
    "    real_accuracy = []\n",
    "    for batch in range(X_val.shape[0] // 1000):\n",
    "        X_val_batch = X_val[batch: batch+1000]\n",
    "        y_val_batch = y_val[batch: batch+1000]\n",
    "        f_output2 = np.argmax(net.forward(X_val_batch), axis = 1)\n",
    "        batch_accuracy2.extend(y_val_batch.tolist())\n",
    "        real_accuracy.extend(f_output2.tolist())\n",
    "    val_accuracy_3sgd[epoch] = np.sum(np.array(batch_accuracy2)==np.array(real_accuracy))/len(batch_accuracy2) * 100\n",
    "    \n",
    "    learning_rate *= learning_rate\n",
    "    \n",
    "#print(train_accuracy, val_accuracy)"
   ]
  },
  {
   "cell_type": "markdown",
   "metadata": {},
   "source": [
    "## Graph loss and train/val accuracies\n",
    "\n",
    "Examining the loss graph along with the train and val accuracy graphs should help you gain some intuition for the hyperparameters you should try in the hyperparameter tuning below. It should also help with debugging any issues you might have with your network."
   ]
  },
  {
   "cell_type": "code",
   "execution_count": 4,
   "metadata": {},
   "outputs": [
    {
     "data": {
      "image/png": "[encoded data removed]",
      "text/plain": [
       "<Figure size 720x576 with 2 Axes>"
      ]
     },
     "metadata": {
      "needs_background": "light"
     },
     "output_type": "display_data"
    }
   ],
   "source": [
    "# Plot the loss function and train / validation accuracies\n",
    "plt.subplot(2, 1, 1)\n",
    "plt.plot(train_loss_2sgd)\n",
    "#plt.plot(train_loss_3sgd)\n",
    "plt.title('Loss history')\n",
    "plt.xlabel('Iteration')\n",
    "plt.ylabel('Loss')\n",
    "\n",
    "plt.subplot(2, 1, 2)\n",
    "plt.plot(train_accuracy_2sgd, label='train_2sgd')\n",
    "plt.plot(val_accuracy_2sgd, label='val_2sgd')\n",
    "#plt.plot(train_accuracy_3sgd, label='train_3sgd')\n",
    "#plt.plot(val_accuracy_3sgd, label='val_3sgd')\n",
    "plt.title('Classification accuracy history')\n",
    "plt.xlabel('Epoch')\n",
    "plt.ylabel('Classification accuracy')\n",
    "plt.legend()\n",
    "plt.show()"
   ]
  },
  {
   "cell_type": "markdown",
   "metadata": {},
   "source": [
    "## Train using Adam\n",
    "Next we will train the same model using the Adam optimizer. You should take the above code for SGD and modify it to use Adam instead. For implementation details, see the lecture slides. The original paper that introduced Adam is also a good reference, and contains suggestions for default values: https://arxiv.org/pdf/1412.6980.pdf"
   ]
  },
  {
   "cell_type": "code",
   "execution_count": 4,
   "metadata": {},
   "outputs": [],
   "source": [
    "# TODO: implement me"
   ]
  },
  {
   "cell_type": "markdown",
   "metadata": {},
   "source": [
    "## Hyperparameter tuning\n",
    "\n",
    "Once you have successfully trained a network you can tune your hyparameters to increase your accuracy.\n",
    "\n",
    "Based on the graphs of the loss function above you should be able to develop some intuition about what hyperparameter adjustments may be necessary. A very noisy loss implies that the learning rate might be too high, while a linearly decreasing loss would suggest that the learning rate may be too low. A large gap between training and validation accuracy would suggest overfitting due to large model without much regularization. No gap between training and validation accuracy would indicate low model capacity. \n",
    "\n",
    "You will compare networks of two and three layers using the different optimization methods you implemented. \n",
    "\n",
    "The different hyperparameters you can experiment with are:\n",
    "- **Batch size**: We recommend you leave this at 200 initially which is the batch size we used. \n",
    "- **Number of iterations**: You can gain an intuition for how many iterations to run by checking when the validation accuracy plateaus in your train/val accuracy graph.\n",
    "- **Initialization** Weight initialization is very important for neural networks. We used the initialization `W = np.random.randn(n) / sqrt(n)` where `n` is the input dimension for layer corresponding to `W`. We recommend you stick with the given initializations, but you may explore modifying these. Typical initialization practices: http://cs231n.github.io/neural-networks-2/#init\n",
    "- **Learning rate**: Generally from around 1e-4 to 1e-1 is a good range to explore according to our implementation.\n",
    "- **Learning rate decay**: We recommend a 0.95 decay to start.\n",
    "- **Hidden layer size**: You should explore up to around 120 units per layer. For three-layer network, we fixed the two hidden layers to be the same size when obtaining the target numbers. However, you may experiment with having different size hidden layers.\n",
    "- **Regularization coefficient**: We recommend trying values in the range 0 to 0.1. \n",
    "\n",
    "Hints:\n",
    "- After getting a sense of the parameters by trying a few values yourself, you will likely want to write a few for-loops to traverse over a set of hyperparameters.\n",
    "- If you find that your train loss is decreasing, but your train and val accuracy start to decrease rather than increase, your model likely started minimizing the regularization term. To prevent this you will need to decrease the regularization coefficient. "
   ]
  },
  {
   "cell_type": "markdown",
   "metadata": {},
   "source": [
    "## Run on the test set\n",
    "When you are done experimenting, you should evaluate your final trained networks on the test set."
   ]
  },
  {
   "cell_type": "code",
   "execution_count": 9,
   "metadata": {},
   "outputs": [],
   "source": [
    "best_2layer_sgd_prediction = np.argmax(sgd_2_best.forward(X_test), axis = 1)\n",
    "best_3layer_sgd_prediction = None\n",
    "best_2layer_adam_prediction = None\n",
    "best_3layer_adam_prediction = None"
   ]
  },
  {
   "cell_type": "markdown",
   "metadata": {},
   "source": [
    "## Kaggle output\n",
    "\n",
    "Once you are satisfied with your solution and test accuracy, output a file to submit your test set predictions to the Kaggle for Assignment 2 Neural Network. Use the following code to do so:"
   ]
  },
  {
   "cell_type": "code",
   "execution_count": 11,
   "metadata": {},
   "outputs": [],
   "source": [
    "output_submission_csv('kaggle/nn_2layer_sgd_submission.csv', best_2layer_sgd_prediction)\n",
    "#output_submission_csv('nn_3layer_sgd_submission.csv', best_3layer_sgd_prediction)\n",
    "#output_submission_csv('nn_2layer_adam_submission.csv', best_2layer_adam_prediction)\n",
    "#output_submission_csv('nn_3layer_adam_submission.csv', best_3layer_adam_prediction)"
   ]
  },
  {
   "cell_type": "markdown",
   "metadata": {},
   "source": [
    "## Compare SGD and Adam\n",
    "Create graphs to compare training loss and validation accuracy between SGD and Adam. The code is similar to the above code, but instead of comparing train and validation, we are comparing SGD and Adam."
   ]
  },
  {
   "cell_type": "code",
   "execution_count": null,
   "metadata": {},
   "outputs": [],
   "source": [
    "# TODO: implement me"
   ]
  }
 ],
 "metadata": {
  "kernelspec": {
   "display_name": "Python 3",
   "language": "python",
   "name": "python3"
  }
 },
 "nbformat": 4,
 "nbformat_minor": 1
}
