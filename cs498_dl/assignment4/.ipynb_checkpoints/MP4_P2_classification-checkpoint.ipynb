{
 "cells": [
  {
   "cell_type": "code",
   "execution_count": 1,
   "metadata": {},
   "outputs": [],
   "source": [
    "import os\n",
    "import time\n",
    "import math\n",
    "import glob\n",
    "import string\n",
    "import random \n",
    "\n",
    "import torch\n",
    "import torch.nn as nn\n",
    "\n",
    "from lstm.helpers import time_since\n",
    "\n",
    "%matplotlib inline"
   ]
  },
  {
   "cell_type": "code",
   "execution_count": 2,
   "metadata": {},
   "outputs": [],
   "source": [
    "device = torch.device(\"cuda:0\" if torch.cuda.is_available() else \"cpu\")"
   ]
  },
  {
   "cell_type": "markdown",
   "metadata": {},
   "source": [
    "# Language recognition with an RNN\n",
    "\n",
    "If you've ever used an online translator you've probably seen a feature that automatically detects the input language. While this might be easy to do if you input unicode characters that are unique to one or a small group of languages (like \"你好\" or \"γεια σας\"), this problem is more challenging if the input only uses the available ASCII characters. In this case, something like \"těší mě\" would beome \"tesi me\" in the ascii form. This is a more challenging problem in which the language must be recognized purely by the pattern of characters rather than unique unicode characters.\n",
    "\n",
    "We will train an RNN to solve this problem for a small set of languages thta can be converted to romanized ASCII form. For training data it would be ideal to have a large and varied dataset in different language styles. However, it is easy to find copies of the Bible which is a large text translated to different languages but in the same easily parsable format, so we will use 20 different copies of the Bible as training data. Using the same book for all of the different languages will hopefully prevent minor overfitting that might arise if we used different books for each language (fitting to common characteristics of the individual books rather than the language)."
   ]
  },
  {
   "cell_type": "code",
   "execution_count": 3,
   "metadata": {},
   "outputs": [
    {
     "name": "stdout",
     "output_type": "stream",
     "text": [
      "tesi me\n"
     ]
    }
   ],
   "source": [
    "from unidecode import unidecode as unicodeToAscii\n",
    "\n",
    "all_characters = string.printable\n",
    "n_letters = len(all_characters)\n",
    "\n",
    "print(unicodeToAscii('těší mě'))"
   ]
  },
  {
   "cell_type": "code",
   "execution_count": 4,
   "metadata": {},
   "outputs": [],
   "source": [
    "# Read a file and split into lines\n",
    "def readFile(filename):\n",
    "    data = open(filename, encoding='utf-8').read().strip()\n",
    "    return unicodeToAscii(data)\n",
    "\n",
    "def get_category_data(data_path):\n",
    "    # Build the category_data dictionary, a list of names per language\n",
    "    category_data = {}\n",
    "    all_categories = []\n",
    "    for filename in glob.glob(data_path):\n",
    "        category = os.path.splitext(os.path.basename(filename))[0].split('_')[0]\n",
    "        all_categories.append(category)\n",
    "        data = readFile(filename)\n",
    "        category_data[category] = data\n",
    "    \n",
    "    return category_data, all_categories"
   ]
  },
  {
   "cell_type": "markdown",
   "metadata": {},
   "source": [
    "The original text is split into two parts, train and test, so that we can make sure that the model is not simply memorizing the train data."
   ]
  },
  {
   "cell_type": "code",
   "execution_count": 5,
   "metadata": {},
   "outputs": [
    {
     "name": "stdout",
     "output_type": "stream",
     "text": [
      "20\n",
      "['albanian', 'czech', 'danish', 'english', 'esperanto', 'finnish', 'french', 'german', 'hungarian', 'italian', 'lithuanian', 'maori', 'norwegian', 'portuguese', 'romanian', 'spanish', 'swedish', 'turkish', 'vietnamese', 'xhosa']\n"
     ]
    }
   ],
   "source": [
    "train_data_path = 'language_data/train/*_train.txt'\n",
    "test_data_path = 'language_data/test/*_test.txt'\n",
    "\n",
    "train_category_data, all_categories = get_category_data(train_data_path)\n",
    "test_category_data, test_all_categories = get_category_data(test_data_path)\n",
    "\n",
    "n_languages = len(all_categories)\n",
    "\n",
    "print(len(all_categories))\n",
    "print(all_categories)"
   ]
  },
  {
   "cell_type": "markdown",
   "metadata": {},
   "source": [
    "# Data processing"
   ]
  },
  {
   "cell_type": "code",
   "execution_count": 6,
   "metadata": {},
   "outputs": [],
   "source": [
    "def categoryFromOutput(output):\n",
    "    top_n, top_i = output.topk(1, dim=1)\n",
    "    category_i = top_i[:, 0]\n",
    "    return category_i\n",
    "\n",
    "# Turn string into long tensor\n",
    "def stringToTensor(string):\n",
    "    tensor = torch.zeros(len(string), requires_grad=True).long()\n",
    "    for c in range(len(string)):\n",
    "        tensor[c] = all_characters.index(string[c])\n",
    "    return tensor\n",
    "\n",
    "def load_random_batch(text, chunk_len, batch_size):\n",
    "    input_data = torch.zeros(batch_size, chunk_len).long().to(device)\n",
    "    target = torch.zeros(batch_size, 1).long().to(device)\n",
    "    input_text = []\n",
    "    for i in range(batch_size):\n",
    "        category = all_categories[random.randint(0, len(all_categories) - 1)]\n",
    "        line_start = random.randint(0, len(text[category])-chunk_len)\n",
    "        category_tensor = torch.tensor([all_categories.index(category)], dtype=torch.long)\n",
    "        line = text[category][line_start:line_start+chunk_len]\n",
    "        input_text.append(line)\n",
    "        input_data[i] = stringToTensor(line)\n",
    "        target[i] = category_tensor\n",
    "    return input_data, target, input_text"
   ]
  },
  {
   "cell_type": "markdown",
   "metadata": {},
   "source": [
    "Implement Model\n",
    "====================\n",
    "\n",
    "For this classification task, we can use the same model we implement for the generation task which is located in `rnn/model.py`. See the `MP4_P2_generation.ipynb` notebook for more instructions. In this case each output vector of our RNN will have the dimension of the number of possible languages (i.e. `n_languages`). We will use this vector to predict a distribution over the languages.\n",
    "\n",
    "In the generation task, we used the output of the RNN at every time step to predict the next letter and our loss included the output from each of these predictions. However, in this task we use the output of the RNN at the end of the sequence to predict the language, so our loss function will use only the predicted output from the last time step.\n",
    "\n"
   ]
  },
  {
   "cell_type": "markdown",
   "metadata": {},
   "source": [
    "# Train RNN"
   ]
  },
  {
   "cell_type": "code",
   "execution_count": 7,
   "metadata": {},
   "outputs": [],
   "source": [
    "from lstm.model import LSTM"
   ]
  },
  {
   "cell_type": "code",
   "execution_count": 8,
   "metadata": {},
   "outputs": [],
   "source": [
    "chunk_len = 25\n",
    "\n",
    "BATCH_SIZE = 100\n",
    "n_epochs = 2000\n",
    "hidden_size = 300\n",
    "n_layers = 2\n",
    "learning_rate = 0.001\n",
    "model_type = 'lstm'\n",
    "\n",
    "criterion = nn.CrossEntropyLoss()\n",
    "lstm = LSTM(n_letters, hidden_size, n_languages, model_type=model_type, n_layers=n_layers).to(device)"
   ]
  },
  {
   "cell_type": "markdown",
   "metadata": {},
   "source": [
    "**TODO:** Fill in the train function. You should initialize a hidden layer representation using your RNN's `init_hidden` function, set the model gradients to zero, and loop over each time step (character) in the input tensor. For each time step compute the output of the of the RNN and the next hidden layer representation. The cross entropy loss should be computed over the last RNN output scores from the end of the sequence and the target classification tensor. Lastly, call backward on the loss and take an optimizer step."
   ]
  },
  {
   "cell_type": "code",
   "execution_count": 9,
   "metadata": {},
   "outputs": [],
   "source": [
    "def train(lstm, target_tensor, data_tensor, optimizer, criterion, batch_size=BATCH_SIZE):\n",
    "    \"\"\"\n",
    "    Inputs:\n",
    "    - rnn: model\n",
    "    - target_target: target character data tensor of shape (batch_size, 1)\n",
    "    - data_tensor: input character data tensor of shape (batch_size, chunk_len)\n",
    "    - optimizer: rnn model optimizer\n",
    "    - criterion: loss function\n",
    "    - batch_size: data batch size\n",
    "    \n",
    "    Returns:\n",
    "    - output: output from RNN from end of sequence \n",
    "    - loss: computed loss value as python float\n",
    "    \n",
    "    \"\"\"\n",
    "    \n",
    "    ####################################\n",
    "    #          YOUR CODE HERE          #\n",
    "    ####################################\n",
    "    batch_size = data_tensor.size(0)\n",
    "    chunk_len = data_tensor.size(1)\n",
    "    \n",
    "    hidden = lstm.init_hidden(batch_size, device = device)\n",
    "    optimizer.zero_grad()\n",
    "    \n",
    "    for i in range(chunk_len):\n",
    "        output, hidden = lstm(data_tensor[:,i], hidden)\n",
    "    \n",
    "    loss = criterion(output, target_tensor.squeeze())\n",
    "    loss.backward()\n",
    "    optimizer.step()\n",
    "    \n",
    "    ##########       END      ##########\n",
    "    return output, loss.data.item()\n",
    "    "
   ]
  },
  {
   "cell_type": "code",
   "execution_count": 10,
   "metadata": {},
   "outputs": [],
   "source": [
    "def evaluate(lstm, data_tensor, seq_len=chunk_len, batch_size=BATCH_SIZE):\n",
    "    with torch.no_grad():\n",
    "        data_tensor = data_tensor.to(device)\n",
    "        hidden = lstm.init_hidden(batch_size, device=device)\n",
    "        for i in range(seq_len):\n",
    "            output, hidden = lstm(data_tensor[:,i], hidden)\n",
    "        \n",
    "        return output\n",
    "    \n",
    "def eval_test(lstm, category_tensor, data_tensor):\n",
    "    with torch.no_grad():\n",
    "        output = evaluate(lstm, data_tensor)\n",
    "        loss = criterion(output, category_tensor.squeeze())\n",
    "        return output, loss.data.item()"
   ]
  },
  {
   "cell_type": "code",
   "execution_count": 11,
   "metadata": {
    "scrolled": false
   },
   "outputs": [
    {
     "name": "stdout",
     "output_type": "stream",
     "text": [
      "25 1% (0m 2s) 2.8367 2.8075 na ka ndihmuar\". Keshtu F / french ✗ (albanian)\n",
      "Train accuracy: 0.0932\n",
      "50 2% (0m 4s) 2.3150 2.3142  hei mea ma tatou. Heoi h / esperanto ✗ (maori)\n",
      "Train accuracy: 0.202\n",
      "75 3% (0m 6s) 2.0864 1.9609 k pranuan te degjojne zer / hungarian ✗ (albanian)\n",
      "Train accuracy: 0.2912\n",
      "100 5% (0m 9s) 1.8188 1.7873  kaj bravan, li prenis li / esperanto ✓\n",
      "Train accuracy: 0.3816\n",
      "125 6% (0m 11s) 1.8220 1.6203  minden ember tisztelje,  / hungarian ✓\n",
      "Train accuracy: 0.4632\n",
      "150 7% (0m 13s) 1.5618 1.4481  kiem toi loi toi, Dau Ch / albanian ✗ (vietnamese)\n",
      "Train accuracy: 0.4684\n",
      "175 8% (0m 15s) 1.2209 1.1304  nguoi cai tri ba muoi mo / vietnamese ✓\n",
      "Train accuracy: 0.5556\n",
      "200 10% (0m 18s) 1.4344 1.2966 ael upon him, I will also / swedish ✗ (english)\n",
      "Train accuracy: 0.5952\n",
      "225 11% (0m 20s) 1.0273 0.9713 n, phan nhu vay ve cac kh / vietnamese ✓\n",
      "Train accuracy: 0.6136\n",
      "250 12% (0m 22s) 1.1198 1.0562  patroj, kaj oni enterigi / esperanto ✓\n",
      "Train accuracy: 0.6288\n",
      "275 13% (0m 24s) 0.9726 0.9692 mmelen og gav dem retfaer / danish ✓\n",
      "Train accuracy: 0.6544\n",
      "300 15% (0m 27s) 0.9868 0.9099 epsi idolii, si in toata  / romanian ✓\n",
      "Train accuracy: 0.662\n",
      "325 16% (0m 29s) 0.9522 0.8372 ma ai ki a ia? A ahuareka / maori ✓\n",
      "Train accuracy: 0.6628\n",
      "350 17% (0m 31s) 0.7682 0.7542 r hungrig. Og Fristeren g / danish ✓\n",
      "Train accuracy: 0.718\n",
      "375 18% (0m 33s) 0.6483 0.6136 a sent them to Ben-hadad, / english ✓\n",
      "Train accuracy: 0.718\n",
      "400 20% (0m 36s) 0.9351 0.8094 n para las reconciliacion / italian ✗ (spanish)\n",
      "Train accuracy: 0.7156\n",
      "425 21% (0m 38s) 0.6999 0.5657 -el; and Jehovah was with / english ✓\n",
      "Train accuracy: 0.7332\n",
      "450 22% (0m 40s) 0.6488 0.6482  ora ecco che i figliuoli / italian ✓\n",
      "Train accuracy: 0.7376\n",
      "475 23% (0m 42s) 0.7793 0.7522  phantsi. Umphambukeli uz / xhosa ✓\n",
      "Train accuracy: 0.7388\n",
      "500 25% (0m 45s) 0.6435 0.5784  e Paraka ki te tihi o Pe / maori ✓\n",
      "Train accuracy: 0.746\n",
      "525 26% (0m 47s) 0.5824 0.5955 orn des HERRN lastet auf  / danish ✗ (german)\n",
      "Train accuracy: 0.756\n",
      "550 27% (0m 49s) 0.6503 0.5455 al dos filisteus ia cresc / spanish ✗ (portuguese)\n",
      "Train accuracy: 0.7872\n",
      "575 28% (0m 51s) 0.7015 0.6635 de meio covado de altura; / portuguese ✓\n",
      "Train accuracy: 0.784\n",
      "600 30% (0m 54s) 0.3059 0.2896 e, ze pry: \"Kdo to slysi? / czech ✓\n",
      "Train accuracy: 0.7956\n",
      "625 31% (0m 56s) 0.5967 0.5921  far tornare il re?\" E il / norwegian ✗ (italian)\n",
      "Train accuracy: 0.7992\n",
      "650 32% (0m 58s) 0.5087 0.4358  a festa dos judeus, a do / portuguese ✓\n",
      "Train accuracy: 0.7876\n",
      "675 33% (1m 0s) 0.6365 0.5843 er inn i vart land, og na / danish ✗ (norwegian)\n",
      "Train accuracy: 0.7876\n",
      "700 35% (1m 3s) 0.6097 0.5280 ekad nebebus apgyvendinta / hungarian ✗ (lithuanian)\n",
      "Train accuracy: 0.8144\n",
      "725 36% (1m 5s) 0.4234 0.4167 katoa i mahia e tona papa / maori ✓\n",
      "Train accuracy: 0.824\n",
      "750 37% (1m 7s) 0.4338 0.3865  t'offre ma bouche, et m' / english ✗ (french)\n",
      "Train accuracy: 0.8232\n",
      "775 38% (1m 9s) 0.5733 0.5174  pe cari le -a pus la cel / romanian ✓\n",
      "Train accuracy: 0.8308\n",
      "800 40% (1m 12s) 0.5243 0.4773 heimo tunnuksineen ja kai / finnish ✓\n",
      "Train accuracy: 0.8376\n",
      "825 41% (1m 14s) 0.5772 0.4881 o, a minha vergonha, e a  / portuguese ✓\n",
      "Train accuracy: 0.838\n",
      "850 42% (1m 16s) 0.5649 0.4615 m. Ne-bu-cat-net-sa, la v / romanian ✗ (vietnamese)\n",
      "Train accuracy: 0.8328\n",
      "875 43% (1m 18s) 0.4920 0.4335 seges magot: mimodon valt / hungarian ✓\n",
      "Train accuracy: 0.8364\n",
      "900 45% (1m 21s) 0.6387 0.5381 rii si necazului in care  / romanian ✓\n",
      "Train accuracy: 0.8248\n",
      "925 46% (1m 23s) 0.4972 0.4930  ke mi ne mortu? Kaj vian / esperanto ✓\n",
      "Train accuracy: 0.8296\n",
      "950 47% (1m 25s) 0.3738 0.3125 kmek verdi.> >> Isa onlar / turkish ✓\n",
      "Train accuracy: 0.8544\n",
      "975 48% (1m 27s) 0.6192 0.5066 k, hogy nekik szolgaljato / hungarian ✓\n",
      "Train accuracy: 0.842\n",
      "1000 50% (1m 29s) 0.3609 0.2872 r dig til arv. Nar en man / norwegian ✓\n",
      "Train accuracy: 0.85\n",
      "1025 51% (1m 32s) 0.4679 0.4334 pten slog han, Mandskraft / danish ✓\n",
      "Train accuracy: 0.8556\n",
      "1050 52% (1m 34s) 0.4092 0.3797 ch truoc, se lam le chuoc / vietnamese ✓\n",
      "Train accuracy: 0.8536\n",
      "1075 53% (1m 36s) 0.3765 0.3497 ik szerint. Ezek Izrael f / hungarian ✓\n",
      "Train accuracy: 0.8532\n",
      "1100 55% (1m 39s) 0.4488 0.4130 roi cho day va chiu phep  / vietnamese ✓\n",
      "Train accuracy: 0.8372\n",
      "1125 56% (1m 41s) 0.4981 0.4944 d besta for evigt, jeg by / swedish ✗ (danish)\n",
      "Train accuracy: 0.8492\n",
      "1150 57% (1m 43s) 0.2270 0.2109 karsi yakasinda birlikte  / turkish ✓\n",
      "Train accuracy: 0.862\n",
      "1175 58% (1m 45s) 0.3802 0.3464 ettferdige sine tanker og / norwegian ✓\n",
      "Train accuracy: 0.8632\n",
      "1200 60% (1m 48s) 0.3840 0.3373 e tere viteve te mia, ne  / albanian ✓\n",
      "Train accuracy: 0.8712\n",
      "1225 61% (1m 50s) 0.3577 0.3931 e purification. Mais tout / french ✓\n",
      "Train accuracy: 0.8816\n",
      "1250 62% (1m 52s) 0.4680 0.4086  da me; il malvagio non l / esperanto ✗ (italian)\n",
      "Train accuracy: 0.86\n",
      "1275 63% (1m 55s) 0.4699 0.4188  Dios: y los que estaban  / spanish ✓\n",
      "Train accuracy: 0.864\n",
      "1300 65% (1m 57s) 0.2601 0.2008 ast talalek: Ezek a tarto / hungarian ✓\n",
      "Train accuracy: 0.88\n",
      "1325 66% (1m 59s) 0.5204 0.4794 a keke o Mororekai, he me / maori ✓\n",
      "Train accuracy: 0.8716\n",
      "1350 67% (2m 1s) 0.2763 0.2462    Kaj mi apartenas al li / esperanto ✓\n",
      "Train accuracy: 0.87\n",
      "1375 68% (2m 4s) 0.3452 0.2897 garlo, a fin de vigorizar / italian ✗ (spanish)\n",
      "Train accuracy: 0.872\n",
      "1400 70% (2m 6s) 0.3214 0.2680 andaj mbreti i tha shqyta / albanian ✓\n",
      "Train accuracy: 0.8728\n",
      "1425 71% (2m 8s) 0.3466 0.2756 u Meremot onardi. Surlari / turkish ✓\n",
      "Train accuracy: 0.8684\n",
      "1450 72% (2m 10s) 0.2953 0.2902 akiri, ma nga tama a Kora / maori ✓\n",
      "Train accuracy: 0.8776\n",
      "1475 73% (2m 13s) 0.3966 0.3087 mihut Ladanin,<br />Elisa / turkish ✓\n",
      "Train accuracy: 0.8708\n",
      "1500 75% (2m 15s) 0.4944 0.4152 , caci au zis: ,,Apere-se / romanian ✓\n",
      "Train accuracy: 0.8828\n",
      "1525 76% (2m 17s) 0.4089 0.3712 celelalte rinduri la desc / romanian ✓\n",
      "Train accuracy: 0.8748\n",
      "1550 77% (2m 19s) 0.3426 0.3031 Resha, kaZerubhabheli, ka / xhosa ✓\n",
      "Train accuracy: 0.8788\n",
      "1575 78% (2m 22s) 0.1445 0.1360 . Cac cong viec khac cua  / vietnamese ✓\n",
      "Train accuracy: 0.8816\n",
      "1600 80% (2m 24s) 0.5427 0.3704 a kawea atu e ahau he kin / maori ✓\n",
      "Train accuracy: 0.88\n",
      "1625 81% (2m 26s) 0.2644 0.2111 nusikalstu ir sulauzytu i / lithuanian ✓\n",
      "Train accuracy: 0.89\n",
      "1650 82% (2m 28s) 0.3211 0.3145 je, thote Zoti. Do te mar / albanian ✓\n",
      "Train accuracy: 0.8928\n",
      "1675 83% (2m 31s) 0.3231 0.2786 ho do homem padecesse mui / portuguese ✓\n",
      "Train accuracy: 0.8796\n",
      "1700 85% (2m 33s) 0.4666 0.3238 : Sodoman maa paasee tuom / finnish ✓\n",
      "Train accuracy: 0.8812\n",
      "1725 86% (2m 35s) 0.3421 0.2599 outou hakari nunui, haung / maori ✓\n",
      "Train accuracy: 0.89\n",
      "1750 87% (2m 37s) 0.5170 0.3121 j bronzi, e coi ne Babilo / italian ✗ (albanian)\n",
      "Train accuracy: 0.8892\n",
      "1775 88% (2m 39s) 0.2757 0.2343 all pronounce him clean,  / french ✗ (english)\n",
      "Train accuracy: 0.8952\n",
      "1800 90% (2m 42s) 0.3778 0.3295 one of them is gone back; / english ✓\n",
      "Train accuracy: 0.9024\n",
      "1825 91% (2m 44s) 0.1389 0.1042 erward, when David heard  / english ✓\n",
      "Train accuracy: 0.9096\n",
      "1850 92% (2m 46s) 0.2263 0.2203 ed after their name. Thes / english ✓\n",
      "Train accuracy: 0.8964\n",
      "1875 93% (2m 48s) 0.2629 0.2470 te, dizendo: No grande al / italian ✗ (portuguese)\n",
      "Train accuracy: 0.8848\n",
      "1900 95% (2m 51s) 0.3998 0.2923 ; tag dig an min sak.>> M / swedish ✓\n",
      "Train accuracy: 0.8936\n",
      "1925 96% (2m 53s) 0.1874 0.1825 ogenito que ela lhe der s / portuguese ✓\n",
      "Train accuracy: 0.8936\n",
      "1950 97% (2m 55s) 0.3067 0.2449 mbouche la trompette! L'e / italian ✗ (french)\n",
      "Train accuracy: 0.8876\n",
      "1975 98% (2m 58s) 0.2994 0.2899 on han sinulle menestysta / finnish ✓\n",
      "Train accuracy: 0.9012\n",
      "2000 100% (3m 0s) 0.2441 0.2116 htoi: \"Une sot po sfidoj  / albanian ✓\n",
      "Train accuracy: 0.8928\n"
     ]
    }
   ],
   "source": [
    "n_iters = 10000 #1000 #2000 #100000\n",
    "print_every = 25\n",
    "plot_every = 25\n",
    "\n",
    "\n",
    "# Keep track of losses for plotting\n",
    "current_loss = 0\n",
    "current_test_loss = 0\n",
    "all_losses = []\n",
    "all_test_losses = []\n",
    "\n",
    "start = time.time()\n",
    "\n",
    "optimizer = torch.optim.Adam(lstm.parameters(), lr=learning_rate, weight_decay=0.0005)\n",
    "\n",
    "\n",
    "number_correct = 0\n",
    "for iter in range(1, n_iters + 1):\n",
    "    input_data, target_category, text_data = load_random_batch(train_category_data, chunk_len, BATCH_SIZE)\n",
    "    output, loss = train(lstm, target_category, input_data, optimizer, criterion)\n",
    "    current_loss += loss\n",
    "    \n",
    "    _, test_loss = eval_test(lstm, target_category, input_data)\n",
    "    current_test_loss += test_loss\n",
    "    guess_i = categoryFromOutput(output)\n",
    "    number_correct += (target_category.squeeze()==guess_i.squeeze()).long().sum()\n",
    "    \n",
    "    # Print iter number, loss, name and guess\n",
    "    if iter % print_every == 0:\n",
    "        sample_idx = 0\n",
    "        guess = all_categories[guess_i[sample_idx]]\n",
    "        \n",
    "        category = all_categories[int(target_category[sample_idx])]\n",
    "        \n",
    "        correct = '✓' if guess == category else '✗ (%s)' % category\n",
    "        print('%d %d%% (%s) %.4f %.4f %s / %s %s' % (iter, iter / n_iters * 100, time_since(start), loss, test_loss, text_data[sample_idx], guess, correct))\n",
    "        print('Train accuracy: {}'.format(float(number_correct)/float(print_every*BATCH_SIZE)))\n",
    "        number_correct = 0\n",
    "    \n",
    "    # Add current loss avg to list of losses\n",
    "    if iter % plot_every == 0:\n",
    "        all_losses.append(current_loss / plot_every)\n",
    "        current_loss = 0\n",
    "        all_test_losses.append(current_test_loss / plot_every)\n",
    "        current_test_loss = 0\n",
    "    \n",
    "    if iter % 200 == 0:\n",
    "        learning_rate = learning_rate * 0.95"
   ]
  },
  {
   "cell_type": "markdown",
   "metadata": {},
   "source": [
    "Plot loss functions\n",
    "--------------------\n",
    "\n"
   ]
  },
  {
   "cell_type": "code",
   "execution_count": 12,
   "metadata": {
    "scrolled": true
   },
   "outputs": [
    {
     "data": {
      "text/plain": [
       "[<matplotlib.lines.Line2D at 0x23884fc25e0>]"
      ]
     },
     "execution_count": 12,
     "metadata": {},
     "output_type": "execute_result"
    },
    {
     "data": {
      "image/png": "[encoded data removed]",
      "text/plain": [
       "<Figure size 432x288 with 1 Axes>"
      ]
     },
     "metadata": {
      "needs_background": "light"
     },
     "output_type": "display_data"
    }
   ],
   "source": [
    "import matplotlib.pyplot as plt\n",
    "import matplotlib.ticker as ticker\n",
    "\n",
    "plt.figure()\n",
    "plt.plot(all_losses, color='b')\n",
    "plt.plot(all_test_losses, color='r')"
   ]
  },
  {
   "cell_type": "markdown",
   "metadata": {},
   "source": [
    "Evaluate results\n",
    "-------------------\n",
    "\n",
    "We now vizualize the performance of our model by creating a confusion matrix. The ground truth languages of samples are represented by rows in the matrix while the predicted languages are represented by columns.\n",
    "\n",
    "In this evaluation we consider sequences of variable sizes rather than the fixed length sequences we used for training."
   ]
  },
  {
   "cell_type": "code",
   "execution_count": 13,
   "metadata": {},
   "outputs": [
    {
     "name": "stdout",
     "output_type": "stream",
     "text": [
      "Test accuracy:  0.87\n"
     ]
    },
    {
     "data": {
      "image/png": "[encoded data removed]",
      "text/plain": [
       "<Figure size 432x288 with 2 Axes>"
      ]
     },
     "metadata": {
      "needs_background": "light"
     },
     "output_type": "display_data"
    }
   ],
   "source": [
    "eval_batch_size = 1  # needs to be set to 1 for evaluating different sequence lengths\n",
    "\n",
    "# Keep track of correct guesses in a confusion matrix\n",
    "confusion = torch.zeros(n_languages, n_languages)\n",
    "n_confusion = 1000\n",
    "num_correct = 0\n",
    "total = 0\n",
    "\n",
    "for i in range(n_confusion):\n",
    "    eval_chunk_len = random.randint(10, 50) # in evaluation we will look at sequences of variable sizes\n",
    "    input_data, target_category, text_data = load_random_batch(test_category_data, chunk_len=eval_chunk_len, batch_size=eval_batch_size)\n",
    "    output = evaluate(lstm, input_data, seq_len=eval_chunk_len, batch_size=eval_batch_size)\n",
    "    \n",
    "    guess_i = categoryFromOutput(output)\n",
    "    category_i = [int(target_category[idx]) for idx in range(len(target_category))]\n",
    "    for j in range(eval_batch_size):\n",
    "        category = all_categories[category_i[j]] \n",
    "        confusion[category_i[j]][guess_i[j]] += 1\n",
    "        num_correct += int(guess_i[j]==category_i[j])\n",
    "        total += 1\n",
    "\n",
    "print('Test accuracy: ', float(num_correct)/float(n_confusion*eval_batch_size))\n",
    "\n",
    "# Normalize by dividing every row by its sum\n",
    "for i in range(n_languages):\n",
    "    confusion[i] = confusion[i] / confusion[i].sum()\n",
    "\n",
    "# Set up plot\n",
    "fig = plt.figure()\n",
    "ax = fig.add_subplot(111)\n",
    "cax = ax.matshow(confusion.numpy())\n",
    "fig.colorbar(cax)\n",
    "\n",
    "# Set up axes\n",
    "ax.set_xticklabels([''] + all_categories, rotation=90)\n",
    "ax.set_yticklabels([''] + all_categories)\n",
    "\n",
    "# Force label at every tick\n",
    "ax.xaxis.set_major_locator(ticker.MultipleLocator(1))\n",
    "ax.yaxis.set_major_locator(ticker.MultipleLocator(1))\n",
    "\n",
    "plt.show()"
   ]
  },
  {
   "cell_type": "markdown",
   "metadata": {},
   "source": [
    "You can pick out bright spots off the main axis that show which\n",
    "languages it guesses incorrectly.\n",
    "\n",
    "\n"
   ]
  },
  {
   "cell_type": "markdown",
   "metadata": {},
   "source": [
    "Run on User Input\n",
    "---------------------\n",
    "\n",
    "Now you can test your model on your own input. \n"
   ]
  },
  {
   "cell_type": "code",
   "execution_count": 14,
   "metadata": {},
   "outputs": [
    {
     "name": "stdout",
     "output_type": "stream",
     "text": [
      "\n",
      "> This is a phrase to test the model on user input\n",
      "(9.85) english\n",
      "(2.78) german\n",
      "(2.65) french\n",
      "(1.53) italian\n",
      "(1.23) albanian\n"
     ]
    }
   ],
   "source": [
    "def predict(input_line, n_predictions=5):\n",
    "    print('\\n> %s' % input_line)\n",
    "    with torch.no_grad():\n",
    "        input_data = stringToTensor(input_line).long().unsqueeze(0).to(device)\n",
    "        output = evaluate(lstm, input_data, seq_len=len(input_line), batch_size=1)\n",
    "\n",
    "    # Get top N categories\n",
    "    topv, topi = output.topk(n_predictions, dim=1)\n",
    "    predictions = []\n",
    "\n",
    "    for i in range(n_predictions):\n",
    "        topv.shape\n",
    "        topi.shape\n",
    "        value = topv[0][i].item()\n",
    "        category_index = topi[0][i].item()\n",
    "        print('(%.2f) %s' % (value, all_categories[category_index]))\n",
    "        predictions.append([value, all_categories[category_index]])\n",
    "\n",
    "predict('This is a phrase to test the model on user input')\n"
   ]
  },
  {
   "cell_type": "markdown",
   "metadata": {},
   "source": [
    "# Output Kaggle submission file\n",
    "\n",
    "Once you have found a good set of hyperparameters submit the output of your model on the Kaggle test file."
   ]
  },
  {
   "cell_type": "code",
   "execution_count": null,
   "metadata": {},
   "outputs": [],
   "source": [
    "import csv\n",
    "\n",
    "kaggle_test_file_path = 'kaggle_rnn_language_classification_test.txt'\n",
    "with open(kaggle_test_file_path, 'r') as f:\n",
    "    lines = f.readlines()\n",
    "\n",
    "output_rows = []\n",
    "for i, line in enumerate(lines):\n",
    "    sample = line.rstrip()\n",
    "    sample_chunk_len = len(sample)\n",
    "    input_data = stringToTensor(sample).unsqueeze(0)\n",
    "    output = evaluate(lstm, input_data, seq_len=sample_chunk_len, batch_size=1)\n",
    "    guess_i = categoryFromOutput(output)\n",
    "    output_rows.append((str(i+1), all_categories[guess_i]))\n",
    "\n",
    "submission_file_path = 'kaggle_rnn_submission.txt'\n",
    "with open(submission_file_path, 'w') as f:\n",
    "    output_rows = [('id', 'category')] + output_rows\n",
    "    writer = csv.writer(f)\n",
    "    writer.writerows(output_rows)\n"
   ]
  }
 ],
 "metadata": {
  "kernelspec": {
   "display_name": "Python 3",
   "language": "python",
   "name": "python3"
  },
  "language_info": {
   "codemirror_mode": {
    "name": "ipython",
    "version": 3
   },
   "file_extension": ".py",
   "mimetype": "text/x-python",
   "name": "python",
   "nbconvert_exporter": "python",
   "pygments_lexer": "ipython3",
   "version": "3.8.3"
  }
 },
 "nbformat": 4,
 "nbformat_minor": 2
}
